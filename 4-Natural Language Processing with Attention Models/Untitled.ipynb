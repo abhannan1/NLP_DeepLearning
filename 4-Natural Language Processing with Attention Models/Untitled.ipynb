{
 "cells": [
  {
   "cell_type": "code",
   "execution_count": 3,
   "id": "61b8a76d-18bf-4673-89fa-d336f7503fbb",
   "metadata": {},
   "outputs": [],
   "source": [
    "from collections import defaultdict"
   ]
  },
  {
   "cell_type": "code",
   "execution_count": 27,
   "id": "5076326d-f309-4fde-91ee-9b9b9dc20029",
   "metadata": {},
   "outputs": [
    {
     "name": "stdout",
     "output_type": "stream",
     "text": [
      "WARNING:tensorflow:From C:\\Users\\Hp\\anaconda3\\Lib\\site-packages\\keras\\src\\losses.py:2976: The name tf.losses.sparse_softmax_cross_entropy is deprecated. Please use tf.compat.v1.losses.sparse_softmax_cross_entropy instead.\n",
      "\n"
     ]
    }
   ],
   "source": [
    "import numpy as np\n",
    "import tensorflow as tf"
   ]
  },
  {
   "cell_type": "code",
   "execution_count": null,
   "id": "7dba15f3-6e6a-4b6d-b8f1-e5cb27baf7e5",
   "metadata": {},
   "outputs": [],
   "source": [
    "(sic, key=dict.get)"
   ]
  },
  {
   "cell_type": "code",
   "execution_count": 4,
   "id": "0f8afc7b-a56b-42a9-bf63-bf2d2e0dcde9",
   "metadata": {},
   "outputs": [],
   "source": [
    "sic = defaultdict(lambda:0)"
   ]
  },
  {
   "cell_type": "code",
   "execution_count": 7,
   "id": "0ca38b0f-10bc-4a21-b9ba-4ebac1f9255f",
   "metadata": {},
   "outputs": [
    {
     "data": {
      "text/plain": [
       "['clear',\n",
       " 'copy',\n",
       " 'fromkeys',\n",
       " 'get',\n",
       " 'items',\n",
       " 'keys',\n",
       " 'pop',\n",
       " 'popitem',\n",
       " 'setdefault',\n",
       " 'update',\n",
       " 'values']"
      ]
     },
     "execution_count": 7,
     "metadata": {},
     "output_type": "execute_result"
    }
   ],
   "source": [
    "[ch for ch in dir(sic) if \"_\" not in ch]"
   ]
  },
  {
   "cell_type": "code",
   "execution_count": 59,
   "id": "4cb1fe9a-8988-4fef-8263-a709d0b83e9d",
   "metadata": {},
   "outputs": [],
   "source": [
    "y_true = [[0, 1], [0, 0]]\n",
    "y_pred = [[0.6, 0.4], [0.4, 0.6]]\n",
    "loss = tf.keras.losses.binary_crossentropy(y_true, y_pred,from_logits=True)\n",
    "assert loss.shape == (2,)"
   ]
  },
  {
   "cell_type": "code",
   "execution_count": 56,
   "id": "31ba1954-b01a-4f16-b1c0-fc53fb214f33",
   "metadata": {},
   "outputs": [
    {
     "name": "stdout",
     "output_type": "stream",
     "text": [
      "NumPy Result:\n",
      "[[0.26726124 0.53452248 0.80178373]\n",
      " [0.45584231 0.56980288 0.68376346]]\n",
      "\n",
      "NumPy Result2:\n",
      "[[0.26726124 0.53452248 0.80178373]\n",
      " [0.45584231 0.56980288 0.68376346]]\n",
      "\n",
      "TensorFlow Result:\n",
      "tf.Tensor(\n",
      "[[0.26726124 0.5345225  0.8017837 ]\n",
      " [0.45584232 0.5698029  0.68376344]], shape=(2, 3), dtype=float32)\n",
      "\n",
      "TensorFlow Norm:\n",
      "tf.Tensor([3.7416575 8.774964 ], shape=(2,), dtype=float32)\n",
      "\n",
      "Numpy Norm:\n",
      "[3.74165739 8.77496439]\n"
     ]
    }
   ],
   "source": [
    "import tensorflow as tf\n",
    "import numpy as np\n",
    "\n",
    "arr = np.array([[1, 2, 3], [4, 5, 6]])\n",
    "\n",
    "# NumPy\n",
    "numpy_result = arr / np.sqrt(np.sum(np.square(arr), axis=1)).reshape(-1, 1)\n",
    "\n",
    "numpy_result2 = arr / np.linalg.norm(arr, ord=2, axis=1 ).reshape(-1,1)\n",
    "# TensorFlow\n",
    "tf_result, _ = tf.linalg.normalize(tf.dtypes.cast(tf.constant(arr), tf.float32), ord='euclidean', axis=1)\n",
    "\n",
    "print(\"NumPy Result:\")\n",
    "print(numpy_result)\n",
    "\n",
    "print(\"\\nNumPy Result2:\")\n",
    "print(numpy_result2)\n",
    "\n",
    "print(\"\\nTensorFlow Result:\")\n",
    "print(tf_result)\n",
    "\n",
    "\n",
    "tf_norm = tf.linalg.norm(tf.dtypes.cast(tf.constant(arr), tf.float32), ord='euclidean', axis=1)\n",
    "np_norm = np.linalg.norm(arr, ord=2, axis=1 )\n",
    "\n",
    "\n",
    "print(\"\\nTensorFlow Norm:\")\n",
    "print(tf_norm)\n",
    "\n",
    "print(\"\\nNumpy Norm:\")\n",
    "print(np_norm)"
   ]
  },
  {
   "cell_type": "code",
   "execution_count": 31,
   "id": "6aa56ee9-4960-4152-b310-e0a5c6a95d02",
   "metadata": {},
   "outputs": [
    {
     "data": {
      "text/plain": [
       "array([[ 0,  1,  2,  3],\n",
       "       [ 4,  5,  6,  7],\n",
       "       [ 8,  9, 10, 11],\n",
       "       [12, 13, 14, 15],\n",
       "       [16, 17, 18, 19],\n",
       "       [20, 21, 22, 23]])"
      ]
     },
     "execution_count": 31,
     "metadata": {},
     "output_type": "execute_result"
    }
   ],
   "source": [
    "arr = np.arange(24).reshape(6,4)\n",
    "arr"
   ]
  },
  {
   "cell_type": "code",
   "execution_count": 32,
   "id": "25720ac9-0a45-4b8e-be99-d6b657ba96bf",
   "metadata": {},
   "outputs": [
    {
     "data": {
      "text/plain": [
       "array([[0.        , 0.26726124, 0.53452248, 0.80178373],\n",
       "       [0.35634832, 0.4454354 , 0.53452248, 0.62360956],\n",
       "       [0.4181667 , 0.47043754, 0.52270837, 0.57497921],\n",
       "       [0.44292808, 0.47983876, 0.51674943, 0.5536601 ],\n",
       "       [0.45621276, 0.48472606, 0.51323935, 0.54175265],\n",
       "       [0.46448868, 0.48771311, 0.51093754, 0.53416198]])"
      ]
     },
     "execution_count": 32,
     "metadata": {},
     "output_type": "execute_result"
    }
   ],
   "source": [
    "arr / np.sqrt(np.sum(np.square(arr), axis=1)).reshape(-1,1)"
   ]
  },
  {
   "cell_type": "code",
   "execution_count": 41,
   "id": "6b3ecef8-dc2f-4a64-9f0e-193f902f8d67",
   "metadata": {},
   "outputs": [
    {
     "data": {
      "text/plain": [
       "(<tf.Tensor: shape=(6, 4), dtype=float32, numpy=\n",
       " array([[0.        , 0.01520748, 0.03041495, 0.04562243],\n",
       "        [0.06082991, 0.07603738, 0.09124486, 0.10645234],\n",
       "        [0.12165982, 0.1368673 , 0.15207477, 0.16728225],\n",
       "        [0.18248972, 0.1976972 , 0.21290468, 0.22811216],\n",
       "        [0.24331963, 0.2585271 , 0.2737346 , 0.28894207],\n",
       "        [0.30414954, 0.31935704, 0.3345645 , 0.34977198]], dtype=float32)>,\n",
       " <tf.Tensor: shape=(1, 1), dtype=float32, numpy=array([[65.757126]], dtype=float32)>)"
      ]
     },
     "execution_count": 41,
     "metadata": {},
     "output_type": "execute_result"
    }
   ],
   "source": [
    "narr = tf.linalg.normalize(tf.dtypes.cast(tf.constant(arr), tf.float32), ord='euclidean')\n",
    "narr"
   ]
  },
  {
   "cell_type": "code",
   "execution_count": 35,
   "id": "37da970c-5ca7-45b8-a27e-ddd9bf681fbc",
   "metadata": {},
   "outputs": [
    {
     "data": {
      "text/plain": [
       "array([ 3.74165739, 11.22497216, 19.13112647, 27.09243437, 35.07135583,\n",
       "       43.05810028])"
      ]
     },
     "execution_count": 35,
     "metadata": {},
     "output_type": "execute_result"
    }
   ],
   "source": [
    "np.linalg.norm(arr, ord=2, axis=1 )"
   ]
  },
  {
   "cell_type": "code",
   "execution_count": 22,
   "id": "bc2f9aeb-5d4e-47a3-a7eb-c160771fc6c2",
   "metadata": {},
   "outputs": [
    {
     "data": {
      "text/plain": [
       "array([ 3.74165739, 11.22497216, 19.13112647, 27.09243437, 35.07135583,\n",
       "       43.05810028])"
      ]
     },
     "execution_count": 22,
     "metadata": {},
     "output_type": "execute_result"
    }
   ],
   "source": [
    "np.linalg.norm(arr, ord=2, axis=1 )"
   ]
  },
  {
   "cell_type": "code",
   "execution_count": null,
   "id": "c58eafc1-92b7-4564-b291-3db2dc06669a",
   "metadata": {},
   "outputs": [],
   "source": [
    "np.linalg.(arr)"
   ]
  }
 ],
 "metadata": {
  "kernelspec": {
   "display_name": "Python 3 (ipykernel)",
   "language": "python",
   "name": "python3"
  },
  "language_info": {
   "codemirror_mode": {
    "name": "ipython",
    "version": 3
   },
   "file_extension": ".py",
   "mimetype": "text/x-python",
   "name": "python",
   "nbconvert_exporter": "python",
   "pygments_lexer": "ipython3",
   "version": "3.11.5"
  }
 },
 "nbformat": 4,
 "nbformat_minor": 5
}
