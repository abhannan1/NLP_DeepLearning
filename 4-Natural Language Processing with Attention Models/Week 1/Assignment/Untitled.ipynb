{
 "cells": [
  {
   "cell_type": "code",
   "execution_count": 2,
   "id": "9906a2d0-7bb7-4d83-9d45-bdb7a226fb00",
   "metadata": {},
   "outputs": [
    {
     "name": "stdout",
     "output_type": "stream",
     "text": [
      "Original Matrix:\n",
      "[[1 2 3]\n",
      " [4 5 6]\n",
      " [7 8 9]]\n",
      "\n",
      "Upper Triangular Matrix:\n",
      "[[1 2 3]\n",
      " [0 5 6]\n",
      " [0 0 9]]\n",
      "\n",
      "Lower Triangular Matrix:\n",
      "[[1 0 0]\n",
      " [4 5 0]\n",
      " [7 8 9]]\n",
      "\n",
      "Diagonal Matrix:\n",
      "[[1 0 0]\n",
      " [0 5 0]\n",
      " [0 0 9]]\n"
     ]
    }
   ],
   "source": [
    "import numpy as np\n",
    "from scipy.linalg import triu, tril\n",
    "\n",
    "def split_matrix(matrix):\n",
    "    if matrix.shape[0] != matrix.shape[1]:\n",
    "        raise ValueError(\"Input matrix must be square.\")\n",
    "\n",
    "    upper_triangular = triu(matrix)\n",
    "    lower_triangular = tril(matrix)\n",
    "    diagonal = np.diag(np.diag(matrix))\n",
    "\n",
    "    return upper_triangular, lower_triangular, diagonal\n",
    "\n",
    "# Example usage:\n",
    "matrix = np.array([[1, 2, 3],\n",
    "                   [4, 5, 6],\n",
    "                   [7, 8, 9]])\n",
    "\n",
    "upper, lower, diag = split_matrix(matrix)\n",
    "\n",
    "print(\"Original Matrix:\")\n",
    "print(matrix)\n",
    "\n",
    "print(\"\\nUpper Triangular Matrix:\")\n",
    "print(upper)\n",
    "\n",
    "print(\"\\nLower Triangular Matrix:\")\n",
    "print(lower)\n",
    "\n",
    "print(\"\\nDiagonal Matrix:\")\n",
    "print(diag)\n"
   ]
  },
  {
   "cell_type": "code",
   "execution_count": 4,
   "id": "eb699942-8965-4688-876a-66b5863b72f6",
   "metadata": {},
   "outputs": [
    {
     "data": {
      "text/plain": [
       "array([[1, 0, 0],\n",
       "       [0, 5, 0],\n",
       "       [0, 0, 9]])"
      ]
     },
     "execution_count": 4,
     "metadata": {},
     "output_type": "execute_result"
    }
   ],
   "source": [
    "np.diag(np.diag(matrix))"
   ]
  },
  {
   "cell_type": "code",
   "execution_count": 7,
   "id": "ab445c9b-7e71-4c4c-98ac-ca4eab718cf1",
   "metadata": {},
   "outputs": [
    {
     "data": {
      "text/plain": [
       "array([[[ True, False],\n",
       "        [ True,  True]]])"
      ]
     },
     "execution_count": 7,
     "metadata": {},
     "output_type": "execute_result"
    }
   ],
   "source": [
    "mask_size = 2\n",
    "np.tril(np.ones((1, mask_size, mask_size), dtype=np.bool_), k=0) "
   ]
  },
  {
   "cell_type": "code",
   "execution_count": 11,
   "id": "d8fcd348-3d97-4f02-8838-f36f07c5e57d",
   "metadata": {},
   "outputs": [],
   "source": [
    "import numpy as np"
   ]
  },
  {
   "cell_type": "code",
   "execution_count": 12,
   "id": "6e356e5d-0f49-4299-a417-b025d869e267",
   "metadata": {},
   "outputs": [],
   "source": [
    "def create_tensor(t):\n",
    "    \"\"\"Create tensor from list of lists\"\"\"\n",
    "    return np.array(t)\n",
    "\n",
    "\n",
    "def display_tensor(t, name):\n",
    "    \"\"\"Display shape and tensor\"\"\"\n",
    "    print(f'{name} shape: {t.shape}\\n')\n",
    "    print(f'{t}\\n')"
   ]
  },
  {
   "cell_type": "code",
   "execution_count": 13,
   "id": "1f12598e-e016-435d-9445-ae4e5a9ca70b",
   "metadata": {},
   "outputs": [
    {
     "name": "stdout",
     "output_type": "stream",
     "text": [
      "query shape: (2, 3)\n",
      "\n",
      "[[1 0 0]\n",
      " [0 1 0]]\n",
      "\n",
      "key shape: (2, 3)\n",
      "\n",
      "[[1 2 3]\n",
      " [4 5 6]]\n",
      "\n",
      "value shape: (2, 3)\n",
      "\n",
      "[[0 1 0]\n",
      " [1 0 1]]\n",
      "\n",
      "mask shape: (2, 2)\n",
      "\n",
      "[[ 0.e+00  0.e+00]\n",
      " [-1.e+09  0.e+00]]\n",
      "\n"
     ]
    }
   ],
   "source": [
    "q = create_tensor([[1, 0, 0], [0, 1, 0]])\n",
    "display_tensor(q, 'query')\n",
    "k = create_tensor([[1, 2, 3], [4, 5, 6]])\n",
    "display_tensor(k, 'key')\n",
    "v = create_tensor([[0, 1, 0], [1, 0, 1]])\n",
    "display_tensor(v, 'value')\n",
    "m = create_tensor([[0, 0], [-1e9, 0]])\n",
    "display_tensor(m, 'mask')"
   ]
  },
  {
   "cell_type": "code",
   "execution_count": 26,
   "id": "45b15c1c-89be-4c9e-92b7-80e82c402390",
   "metadata": {},
   "outputs": [
    {
     "name": "stdout",
     "output_type": "stream",
     "text": [
      "query dot key shape: (2, 2)\n",
      "\n",
      "[[0.57735027 2.30940108]\n",
      " [1.15470054 2.88675135]]\n",
      "\n"
     ]
    }
   ],
   "source": [
    "dots = q @ k.T / np.sqrt(3)\n",
    "display_tensor(q_dot_k, 'query dot key')"
   ]
  },
  {
   "cell_type": "code",
   "execution_count": 37,
   "id": "571bcf14-ad69-44ac-9887-9a2251b9b3ce",
   "metadata": {},
   "outputs": [
    {
     "data": {
      "text/plain": [
       "array([[[ True, False, False, False],\n",
       "        [ True,  True, False, False],\n",
       "        [ True,  True,  True, False],\n",
       "        [ True,  True,  True,  True]]])"
      ]
     },
     "execution_count": 37,
     "metadata": {},
     "output_type": "execute_result"
    }
   ],
   "source": [
    "mask = np.tril(np.ones((1,4,4),dtype=np.bool_),k=0)\n",
    "mask"
   ]
  },
  {
   "cell_type": "code",
   "execution_count": 49,
   "id": "a9a6fa7d-018b-4f9a-939d-e39e10f0adfd",
   "metadata": {},
   "outputs": [
    {
     "data": {
      "text/plain": [
       "array([[[7.57725695, 4.8730197 , 4.19299494, 0.27301459],\n",
       "        [3.44522359, 3.29048204, 3.83451704, 2.74599865],\n",
       "        [3.91236366, 3.04556394, 1.37227049, 5.76924476],\n",
       "        [5.76263608, 7.41914613, 4.10006728, 3.19064517]]])"
      ]
     },
     "execution_count": 49,
     "metadata": {},
     "output_type": "execute_result"
    }
   ],
   "source": [
    "np.random.seed(3)\n",
    "dots = np.random.normal(4,2, (1,4,4))\n",
    "dots"
   ]
  },
  {
   "cell_type": "code",
   "execution_count": 50,
   "id": "f9765977-e99d-42f6-9ed9-5a1385b10199",
   "metadata": {},
   "outputs": [
    {
     "data": {
      "text/plain": [
       "array([[[ 7.57725695e+00, -1.00000000e+09, -1.00000000e+09,\n",
       "         -1.00000000e+09],\n",
       "        [ 3.44522359e+00,  3.29048204e+00, -1.00000000e+09,\n",
       "         -1.00000000e+09],\n",
       "        [ 3.91236366e+00,  3.04556394e+00,  1.37227049e+00,\n",
       "         -1.00000000e+09],\n",
       "        [ 5.76263608e+00,  7.41914613e+00,  4.10006728e+00,\n",
       "          3.19064517e+00]]])"
      ]
     },
     "execution_count": 50,
     "metadata": {},
     "output_type": "execute_result"
    }
   ],
   "source": [
    "np.where(mask, dots, np.full_like(dots, -1e9))"
   ]
  },
  {
   "cell_type": "code",
   "execution_count": null,
   "id": "3b63136b-eda3-4650-9205-cd3377134dad",
   "metadata": {},
   "outputs": [],
   "source": [
    "np.where()"
   ]
  },
  {
   "cell_type": "code",
   "execution_count": 51,
   "id": "c1fb5ada-027e-462f-8f13-b7fe2757f146",
   "metadata": {},
   "outputs": [],
   "source": [
    "import os"
   ]
  },
  {
   "cell_type": "code",
   "execution_count": 52,
   "id": "6721e883-2bec-42c3-938d-596719e2f814",
   "metadata": {},
   "outputs": [
    {
     "data": {
      "text/plain": [
       "'E:\\\\DeepLearning.AI-Natural-Language-Processing-Specialization-main\\\\4-Natural Language Processing with Attention Models\\\\Week 1\\\\Assignment'"
      ]
     },
     "execution_count": 52,
     "metadata": {},
     "output_type": "execute_result"
    }
   ],
   "source": [
    "os.getcwd()"
   ]
  },
  {
   "cell_type": "code",
   "execution_count": 62,
   "id": "296de934-032b-4ff8-b18c-4232278b74c6",
   "metadata": {},
   "outputs": [
    {
     "data": {
      "text/plain": [
       "'C:\\\\Users\\\\Hp\\\\data'"
      ]
     },
     "execution_count": 62,
     "metadata": {},
     "output_type": "execute_result"
    }
   ],
   "source": [
    "os.path.expanduser(\"~\\data\")"
   ]
  },
  {
   "cell_type": "code",
   "execution_count": 68,
   "id": "8d7d6ceb-bac7-45f8-888f-1548a3e792bd",
   "metadata": {},
   "outputs": [],
   "source": [
    "\n",
    "import textwrap\n",
    "wrapper = textwrap.TextWrapper(width=20)\n",
    "\n"
   ]
  },
  {
   "cell_type": "code",
   "execution_count": 69,
   "id": "36ac2305-a752-454a-ab3f-5d9b353788a4",
   "metadata": {},
   "outputs": [
    {
     "name": "stdout",
     "output_type": "stream",
     "text": [
      "this is most\n",
      "beautiful day i have\n",
      "ever seen in the\n",
      "karachi \n",
      "\n"
     ]
    }
   ],
   "source": [
    "sentence = \"this is most beautiful day i have ever seen in the karachi\"\n",
    "print(wrapper.fill(sentence),\"\\n\")"
   ]
  },
  {
   "cell_type": "code",
   "execution_count": null,
   "id": "10204020-83ac-4c42-8c3c-7b05d787beb5",
   "metadata": {},
   "outputs": [],
   "source": []
  },
  {
   "cell_type": "code",
   "execution_count": 5,
   "id": "4d608b41-e40f-4b7f-9d51-0bd47ffc0d42",
   "metadata": {},
   "outputs": [],
   "source": [
    "mask = np.random.rand(2,3)"
   ]
  },
  {
   "cell_type": "code",
   "execution_count": 9,
   "id": "68dd2f76-b1e0-4768-a1be-9e18f8a7d351",
   "metadata": {},
   "outputs": [
    {
     "data": {
      "text/plain": [
       "(2, 3)"
      ]
     },
     "execution_count": 9,
     "metadata": {},
     "output_type": "execute_result"
    }
   ],
   "source": [
    "mask.shape"
   ]
  },
  {
   "cell_type": "code",
   "execution_count": 10,
   "id": "bea4859e-c196-4c0a-8ba9-b32c975e2324",
   "metadata": {},
   "outputs": [
    {
     "data": {
      "text/plain": [
       "(2, 1, 1, 3)"
      ]
     },
     "execution_count": 10,
     "metadata": {},
     "output_type": "execute_result"
    }
   ],
   "source": [
    "np.reshape(mask, (mask.shape[0], 1, 1, mask.shape[1])).shape"
   ]
  },
  {
   "cell_type": "code",
   "execution_count": null,
   "id": "c34c5671-85d0-4820-87bd-56dd6e1d4d4d",
   "metadata": {},
   "outputs": [],
   "source": []
  }
 ],
 "metadata": {
  "kernelspec": {
   "display_name": "Python 3 (ipykernel)",
   "language": "python",
   "name": "python3"
  },
  "language_info": {
   "codemirror_mode": {
    "name": "ipython",
    "version": 3
   },
   "file_extension": ".py",
   "mimetype": "text/x-python",
   "name": "python",
   "nbconvert_exporter": "python",
   "pygments_lexer": "ipython3",
   "version": "3.11.5"
  }
 },
 "nbformat": 4,
 "nbformat_minor": 5
}
