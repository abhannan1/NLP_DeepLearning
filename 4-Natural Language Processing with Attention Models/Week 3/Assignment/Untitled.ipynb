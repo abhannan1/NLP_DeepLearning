{
 "cells": [
  {
   "cell_type": "code",
   "execution_count": 25,
   "id": "636af61f-58dd-4793-bb59-4f38923e5ebb",
   "metadata": {},
   "outputs": [
    {
     "data": {
      "text/plain": [
       "True"
      ]
     },
     "execution_count": 25,
     "metadata": {},
     "output_type": "execute_result"
    }
   ],
   "source": [
    "isinstance(\"s\",([] or str))"
   ]
  },
  {
   "cell_type": "code",
   "execution_count": 3,
   "id": "7f06033f-e3dd-495f-8b30-5f421a5ddc61",
   "metadata": {},
   "outputs": [],
   "source": [
    "import numpy as np"
   ]
  },
  {
   "cell_type": "code",
   "execution_count": 20,
   "id": "06061150-3f05-4157-9629-62b54f7ebd48",
   "metadata": {},
   "outputs": [
    {
     "name": "stdout",
     "output_type": "stream",
     "text": [
      "[[4 4 2]\n",
      " [3 1 3]\n",
      " [1 1 1]] \n",
      "\n",
      "[[1 1 2]\n",
      " [2 0 0]\n",
      " [2 0 0]]\n"
     ]
    }
   ],
   "source": [
    "np.random.seed(30)\n",
    "fir = np.random.randint(5,size=(3,3))\n",
    "sec = np.random.randint(3,size=(3,3))\n",
    "print(fir, \"\\n\")\n",
    "print(sec)"
   ]
  },
  {
   "cell_type": "code",
   "execution_count": 33,
   "id": "6ac4753e-f8e9-4302-8b5a-a8d7844e5aea",
   "metadata": {},
   "outputs": [
    {
     "data": {
      "text/plain": [
       "array([[[4],\n",
       "        [4],\n",
       "        [2]],\n",
       "\n",
       "       [[3],\n",
       "        [1],\n",
       "        [3]],\n",
       "\n",
       "       [[1],\n",
       "        [1],\n",
       "        [1]]])"
      ]
     },
     "execution_count": 33,
     "metadata": {},
     "output_type": "execute_result"
    }
   ],
   "source": [
    "fir[:,:,None]"
   ]
  },
  {
   "cell_type": "code",
   "execution_count": 34,
   "id": "dbb85993-17f3-4cce-a675-156de8e2d475",
   "metadata": {},
   "outputs": [
    {
     "data": {
      "text/plain": [
       "array([[[4],\n",
       "        [4],\n",
       "        [2]],\n",
       "\n",
       "       [[3],\n",
       "        [1],\n",
       "        [3]],\n",
       "\n",
       "       [[1],\n",
       "        [1],\n",
       "        [1]]])"
      ]
     },
     "execution_count": 34,
     "metadata": {},
     "output_type": "execute_result"
    }
   ],
   "source": [
    "fir[...,:,None]"
   ]
  },
  {
   "cell_type": "code",
   "execution_count": 38,
   "id": "a44cb054-bf22-45cb-afad-a524cf8a1a85",
   "metadata": {},
   "outputs": [
    {
     "data": {
      "text/plain": [
       "array([[[4, 4, 2]],\n",
       "\n",
       "       [[3, 1, 3]],\n",
       "\n",
       "       [[1, 1, 1]]])"
      ]
     },
     "execution_count": 38,
     "metadata": {},
     "output_type": "execute_result"
    }
   ],
   "source": [
    "fir[...,None,:]"
   ]
  },
  {
   "cell_type": "code",
   "execution_count": 40,
   "id": "e7d718eb-164f-4c7c-a1a6-f3407e8960dd",
   "metadata": {},
   "outputs": [
    {
     "data": {
      "text/plain": [
       "array([[[4, 4, 2],\n",
       "        [3, 1, 3],\n",
       "        [1, 1, 1]]])"
      ]
     },
     "execution_count": 40,
     "metadata": {},
     "output_type": "execute_result"
    }
   ],
   "source": [
    "fir[None,:]"
   ]
  },
  {
   "cell_type": "code",
   "execution_count": 21,
   "id": "1160ae1d-6831-4b67-bfaa-c5601794f438",
   "metadata": {},
   "outputs": [
    {
     "data": {
      "text/plain": [
       "array([[0., 0., 1.],\n",
       "       [0., 0., 0.],\n",
       "       [0., 0., 0.]], dtype=float32)"
      ]
     },
     "execution_count": 21,
     "metadata": {},
     "output_type": "execute_result"
    }
   ],
   "source": [
    "np.equal(fir,sec).astype(np.float32)"
   ]
  },
  {
   "cell_type": "code",
   "execution_count": 49,
   "id": "9cbde0a8-7295-4a57-8bd9-41f70d4c5960",
   "metadata": {},
   "outputs": [
    {
     "name": "stdout",
     "output_type": "stream",
     "text": [
      "hi\n"
     ]
    }
   ],
   "source": [
    "if not 0:\n",
    "    print(\"hi\")"
   ]
  },
  {
   "cell_type": "code",
   "execution_count": 25,
   "id": "055d9f8c-4db0-42dc-bc08-ed90ef2b7914",
   "metadata": {},
   "outputs": [
    {
     "data": {
      "text/plain": [
       "True"
      ]
     },
     "execution_count": 25,
     "metadata": {},
     "output_type": "execute_result"
    }
   ],
   "source": [
    "share = fir is not None\n",
    "share"
   ]
  },
  {
   "cell_type": "code",
   "execution_count": 52,
   "id": "b1dede95-3dce-421b-8a4c-dfa668a837fb",
   "metadata": {},
   "outputs": [
    {
     "data": {
      "text/plain": [
       "['append',\n",
       " 'clear',\n",
       " 'copy',\n",
       " 'count',\n",
       " 'extend',\n",
       " 'index',\n",
       " 'insert',\n",
       " 'pop',\n",
       " 'remove',\n",
       " 'reverse',\n",
       " 'sort']"
      ]
     },
     "execution_count": 52,
     "metadata": {},
     "output_type": "execute_result"
    }
   ],
   "source": [
    "[ch for ch in dir(list) if \"_\" not in ch]"
   ]
  },
  {
   "cell_type": "code",
   "execution_count": 51,
   "id": "5539fceb-c374-43f9-af98-0dfc390cb3f2",
   "metadata": {},
   "outputs": [
    {
     "ename": "AttributeError",
     "evalue": "'list' object has no attribute 'replace'",
     "output_type": "error",
     "traceback": [
      "\u001b[1;31m---------------------------------------------------------------------------\u001b[0m",
      "\u001b[1;31mAttributeError\u001b[0m                            Traceback (most recent call last)",
      "Cell \u001b[1;32mIn[51], line 1\u001b[0m\n\u001b[1;32m----> 1\u001b[0m [\u001b[38;5;241m3\u001b[39m,\u001b[38;5;241m2\u001b[39m,\u001b[38;5;241m4\u001b[39m,\u001b[38;5;241m5\u001b[39m]\u001b[38;5;241m.\u001b[39mreplace(\u001b[38;5;241m2\u001b[39m,\u001b[38;5;241m3\u001b[39m)\n",
      "\u001b[1;31mAttributeError\u001b[0m: 'list' object has no attribute 'replace'"
     ]
    }
   ],
   "source": [
    "[3,2,4,5].replace(2,3)"
   ]
  },
  {
   "cell_type": "code",
   "execution_count": null,
   "id": "4cb4e57b-53a2-4e04-a944-9f1d00086fd1",
   "metadata": {},
   "outputs": [],
   "source": [
    "isinstance(\"s\",(str or bytes))b\n",
    "isinstance(\"s\",(str | bytes))\n",
    "isinstance(\"s\",(str and bytes))\n",
    "isinstance(\"s\",(bytes or str))\n",
    "isinstance(\"s\",(bytes | str))\n",
    "isinstance(\"s\",(bytes and str))"
   ]
  },
  {
   "cell_type": "code",
   "execution_count": 53,
   "id": "fde291ff-b73a-4797-afa6-08c6b85871cd",
   "metadata": {},
   "outputs": [
    {
     "data": {
      "text/plain": [
       "['clear',\n",
       " 'copy',\n",
       " 'fromkeys',\n",
       " 'get',\n",
       " 'items',\n",
       " 'keys',\n",
       " 'pop',\n",
       " 'popitem',\n",
       " 'setdefault',\n",
       " 'update',\n",
       " 'values']"
      ]
     },
     "execution_count": 53,
     "metadata": {},
     "output_type": "execute_result"
    }
   ],
   "source": [
    "[ch for ch in dir(dict) if \"_\" not in ch]"
   ]
  },
  {
   "cell_type": "code",
   "execution_count": 54,
   "id": "68675b57-b995-4b58-b23a-fef1f1b1d19b",
   "metadata": {},
   "outputs": [
    {
     "data": {
      "text/plain": [
       "'ok is the best'"
      ]
     },
     "execution_count": 54,
     "metadata": {},
     "output_type": "execute_result"
    }
   ],
   "source": [
    "\"this is the best\".replace(\"this\", \"ok\" )"
   ]
  },
  {
   "cell_type": "code",
   "execution_count": 49,
   "id": "2c88ae71-50d8-47b1-8d85-67f040235e9e",
   "metadata": {},
   "outputs": [],
   "source": [
    "thir = np.random.rand(5,5,4,2)"
   ]
  },
  {
   "cell_type": "code",
   "execution_count": 51,
   "id": "4fee8d83-988e-4aba-810b-cd9d0a640891",
   "metadata": {},
   "outputs": [
    {
     "data": {
      "text/plain": [
       "(5, 5, 4, 2)"
      ]
     },
     "execution_count": 51,
     "metadata": {},
     "output_type": "execute_result"
    }
   ],
   "source": [
    "thir.shape"
   ]
  },
  {
   "cell_type": "code",
   "execution_count": 55,
   "id": "1d3e75a6-2878-4746-a6a6-9c42e3d1fa93",
   "metadata": {},
   "outputs": [
    {
     "data": {
      "text/plain": [
       "(5, 5, 2, 4)"
      ]
     },
     "execution_count": 55,
     "metadata": {},
     "output_type": "execute_result"
    }
   ],
   "source": [
    "np.transpose(thir, [1,0,3,2]).shape"
   ]
  },
  {
   "cell_type": "code",
   "execution_count": 58,
   "id": "1adff7f1-8211-41e6-a849-84820ae79c22",
   "metadata": {},
   "outputs": [
    {
     "name": "stdout",
     "output_type": "stream",
     "text": [
      "hi\n"
     ]
    }
   ],
   "source": [
    "if not len(thir)==0:\n",
    "    print(\"hi\")"
   ]
  },
  {
   "cell_type": "code",
   "execution_count": 65,
   "id": "45ca3b16-3550-4e2f-81ef-89dae79f186b",
   "metadata": {},
   "outputs": [
    {
     "data": {
      "text/plain": [
       "2.0"
      ]
     },
     "execution_count": 65,
     "metadata": {},
     "output_type": "execute_result"
    }
   ],
   "source": [
    "np.ceil(5//2)"
   ]
  },
  {
   "cell_type": "code",
   "execution_count": 70,
   "id": "2a26ad79-2177-41fc-9cbd-85ac035ad54d",
   "metadata": {},
   "outputs": [
    {
     "data": {
      "text/plain": [
       "(5, 5, 4, 2)"
      ]
     },
     "execution_count": 70,
     "metadata": {},
     "output_type": "execute_result"
    }
   ],
   "source": [
    "thir.shape"
   ]
  },
  {
   "cell_type": "code",
   "execution_count": 69,
   "id": "c394d5bf-a90d-4628-850c-d3e7abee30a8",
   "metadata": {},
   "outputs": [
    {
     "data": {
      "text/plain": [
       "(50, 4)"
      ]
     },
     "execution_count": 69,
     "metadata": {},
     "output_type": "execute_result"
    }
   ],
   "source": [
    "thir.reshape(-1,thir.shape[-2]).shape"
   ]
  },
  {
   "cell_type": "code",
   "execution_count": 76,
   "id": "91f9e898-f7b2-4a22-b50b-9c17bd88306f",
   "metadata": {},
   "outputs": [
    {
     "data": {
      "text/plain": [
       "83.02167796474964"
      ]
     },
     "execution_count": 76,
     "metadata": {},
     "output_type": "execute_result"
    }
   ],
   "source": [
    "np.random.normal(77, 20)"
   ]
  },
  {
   "cell_type": "code",
   "execution_count": 78,
   "id": "b54a404e-2244-445a-9692-6dedb7e4a145",
   "metadata": {},
   "outputs": [
    {
     "name": "stdout",
     "output_type": "stream",
     "text": [
      "Collecting fastmath\n",
      "  Downloading fastmath-0.0.88-py3-none-any.whl (18 kB)\n",
      "Installing collected packages: fastmath\n",
      "Successfully installed fastmath-0.0.88\n"
     ]
    }
   ],
   "source": [
    "!pip install fastmath"
   ]
  },
  {
   "cell_type": "code",
   "execution_count": 79,
   "id": "5c45e4da-eab7-473f-86df-25b71a785a46",
   "metadata": {},
   "outputs": [],
   "source": [
    "import fastmath"
   ]
  },
  {
   "cell_type": "code",
   "execution_count": 86,
   "id": "ada50ca2-5262-4e1a-9d39-30b1bdf3d9c0",
   "metadata": {},
   "outputs": [
    {
     "data": {
      "text/plain": [
       "array([[ 3.00118322, -0.43767669,  1.93696351,  1.0364238 ,  4.26693907],\n",
       "       [ 4.22302048,  0.53144539,  6.46774634,  3.20007425,  2.58524954],\n",
       "       [ 4.00055718,  3.03108762,  3.77667749,  0.08793861,  8.31091317],\n",
       "       [ 1.7159588 ,  8.14709795,  3.47806517,  5.19538991,  3.51880864]])"
      ]
     },
     "execution_count": 86,
     "metadata": {},
     "output_type": "execute_result"
    }
   ],
   "source": []
  },
  {
   "cell_type": "code",
   "execution_count": 87,
   "id": "83aeb2fe-84a5-4400-a2fc-9e60aaeb820e",
   "metadata": {},
   "outputs": [],
   "source": [
    "import os "
   ]
  },
  {
   "cell_type": "code",
   "execution_count": 91,
   "id": "c84d0feb-abbd-4e71-a95a-f934402b2730",
   "metadata": {},
   "outputs": [
    {
     "data": {
      "text/plain": [
       "b'E:\\\\DeepLearning.AI-Natural-Language-Processing-Specialization-main\\\\4-Natural Language Processing with Attention Models\\\\Week 3\\\\Assignment'"
      ]
     },
     "execution_count": 91,
     "metadata": {},
     "output_type": "execute_result"
    }
   ],
   "source": [
    "os.getcwdb()"
   ]
  },
  {
   "cell_type": "code",
   "execution_count": 92,
   "id": "9ee17fb7-24ac-49e5-ad19-d09377a3659f",
   "metadata": {},
   "outputs": [
    {
     "data": {
      "text/plain": [
       "'E:\\\\DeepLearning.AI-Natural-Language-Processing-Specialization-main\\\\4-Natural Language Processing with Attention Models\\\\Week 3\\\\Assignment'"
      ]
     },
     "execution_count": 92,
     "metadata": {},
     "output_type": "execute_result"
    }
   ],
   "source": [
    "os.getcwd()"
   ]
  },
  {
   "cell_type": "code",
   "execution_count": 94,
   "id": "a7fa62f4-df71-457f-9510-df0ba12c06e9",
   "metadata": {},
   "outputs": [],
   "source": [
    "from termcolor import colored"
   ]
  },
  {
   "cell_type": "code",
   "execution_count": 97,
   "id": "3f6d61ab-5b37-4ace-a3f5-9c6d9d12c4ed",
   "metadata": {},
   "outputs": [
    {
     "name": "stdout",
     "output_type": "stream",
     "text": [
      "\u001b[32mthis is best\u001b[0m\n"
     ]
    }
   ],
   "source": [
    "print(colored(\"this is best\", \"green\"))"
   ]
  },
  {
   "cell_type": "code",
   "execution_count": 110,
   "id": "55d18943-dc8f-4bed-b3d0-2e90208f9646",
   "metadata": {},
   "outputs": [
    {
     "data": {
      "text/plain": [
       "array([[[0, 0, 3, 2],\n",
       "        [3, 0, 2, 1],\n",
       "        [3, 2, 4, 4],\n",
       "        [4, 3, 4, 2]],\n",
       "\n",
       "       [[3, 3, 2, 1],\n",
       "        [2, 4, 3, 0],\n",
       "        [4, 3, 1, 2],\n",
       "        [0, 4, 4, 2]],\n",
       "\n",
       "       [[4, 2, 1, 0],\n",
       "        [2, 2, 1, 0],\n",
       "        [1, 0, 2, 1],\n",
       "        [1, 1, 4, 2]]])"
      ]
     },
     "execution_count": 110,
     "metadata": {},
     "output_type": "execute_result"
    }
   ],
   "source": [
    "np.random.seed(2)\n",
    "set = np.random.randint(5,size=(3,4,4))\n",
    "set"
   ]
  },
  {
   "cell_type": "code",
   "execution_count": 111,
   "id": "71e50355-303b-484b-a893-b4b71d304e8e",
   "metadata": {},
   "outputs": [],
   "source": [
    "x1, x2 = np.split(set, 2, axis=-1) "
   ]
  },
  {
   "cell_type": "code",
   "execution_count": 112,
   "id": "c86869f9-e29f-47cd-b082-c9ca32da7a32",
   "metadata": {},
   "outputs": [
    {
     "data": {
      "text/plain": [
       "array([[[0, 0],\n",
       "        [3, 0],\n",
       "        [3, 2],\n",
       "        [4, 3]],\n",
       "\n",
       "       [[3, 3],\n",
       "        [2, 4],\n",
       "        [4, 3],\n",
       "        [0, 4]],\n",
       "\n",
       "       [[4, 2],\n",
       "        [2, 2],\n",
       "        [1, 0],\n",
       "        [1, 1]]])"
      ]
     },
     "execution_count": 112,
     "metadata": {},
     "output_type": "execute_result"
    }
   ],
   "source": [
    "x1"
   ]
  },
  {
   "cell_type": "code",
   "execution_count": null,
   "id": "52a72955-dd5f-4e7d-a2a2-e5378e67eb52",
   "metadata": {},
   "outputs": [],
   "source": []
  }
 ],
 "metadata": {
  "kernelspec": {
   "display_name": "Python 3 (ipykernel)",
   "language": "python",
   "name": "python3"
  },
  "language_info": {
   "codemirror_mode": {
    "name": "ipython",
    "version": 3
   },
   "file_extension": ".py",
   "mimetype": "text/x-python",
   "name": "python",
   "nbconvert_exporter": "python",
   "pygments_lexer": "ipython3",
   "version": "3.11.5"
  }
 },
 "nbformat": 4,
 "nbformat_minor": 5
}
